{
 "cells": [
  {
   "cell_type": "markdown",
   "id": "0c2a6464-7e26-4551-a701-46078c85343a",
   "metadata": {},
   "source": [
    "# Heart attack prediction\n",
    "\n",
    "## Exploratory Data Analysis\n",
    "\n",
    "We start with exploratory data analysis to understand the data that we are working with, but first we will need to import the necessary libraries"
   ]
  },
  {
   "cell_type": "code",
   "execution_count": 1,
   "id": "dc18ba2d-84b1-434b-95cc-3f2ca9e10e0b",
   "metadata": {},
   "outputs": [],
   "source": [
    "import pandas as pd\n",
    "import numpy as np\n",
    "import seaborn as sns\n",
    "import matplotlib.pyplot as plt"
   ]
  },
  {
   "cell_type": "markdown",
   "id": "cb6a3b06-6ced-4935-aec6-d8b8ed0125bf",
   "metadata": {},
   "source": [
    "Let's import the dataset and see the columns and their data types"
   ]
  },
  {
   "cell_type": "code",
   "execution_count": 2,
   "id": "0679f39e-f230-447d-b49e-a887e185c006",
   "metadata": {},
   "outputs": [
    {
     "name": "stdout",
     "output_type": "stream",
     "text": [
      "<class 'pandas.core.frame.DataFrame'>\n",
      "RangeIndex: 303 entries, 0 to 302\n",
      "Data columns (total 14 columns):\n",
      " #   Column    Non-Null Count  Dtype  \n",
      "---  ------    --------------  -----  \n",
      " 0   age       303 non-null    int64  \n",
      " 1   sex       303 non-null    int64  \n",
      " 2   cp        303 non-null    int64  \n",
      " 3   trtbps    303 non-null    int64  \n",
      " 4   chol      303 non-null    int64  \n",
      " 5   fbs       303 non-null    int64  \n",
      " 6   restecg   303 non-null    int64  \n",
      " 7   thalachh  303 non-null    int64  \n",
      " 8   exng      303 non-null    int64  \n",
      " 9   oldpeak   303 non-null    float64\n",
      " 10  slp       303 non-null    int64  \n",
      " 11  caa       303 non-null    int64  \n",
      " 12  thall     303 non-null    int64  \n",
      " 13  output    303 non-null    int64  \n",
      "dtypes: float64(1), int64(13)\n",
      "memory usage: 33.3 KB\n"
     ]
    }
   ],
   "source": [
    "heart = pd.read_csv(\"Data/heart.csv\")\n",
    "heart.info()"
   ]
  },
  {
   "cell_type": "markdown",
   "id": "557f9d0f-7e1c-4320-8f76-fa281e2aae10",
   "metadata": {},
   "source": [
    "We can see that we have 303 entries and they are all non-null, so we have no missing data.\n",
    "\n",
    "Let's check for duplicates and drop them."
   ]
  },
  {
   "cell_type": "code",
   "execution_count": 3,
   "id": "bd885201-142c-4208-af09-270a35d86a30",
   "metadata": {},
   "outputs": [
    {
     "name": "stdout",
     "output_type": "stream",
     "text": [
      "<class 'pandas.core.frame.DataFrame'>\n",
      "Int64Index: 302 entries, 0 to 302\n",
      "Data columns (total 14 columns):\n",
      " #   Column    Non-Null Count  Dtype  \n",
      "---  ------    --------------  -----  \n",
      " 0   age       302 non-null    int64  \n",
      " 1   sex       302 non-null    int64  \n",
      " 2   cp        302 non-null    int64  \n",
      " 3   trtbps    302 non-null    int64  \n",
      " 4   chol      302 non-null    int64  \n",
      " 5   fbs       302 non-null    int64  \n",
      " 6   restecg   302 non-null    int64  \n",
      " 7   thalachh  302 non-null    int64  \n",
      " 8   exng      302 non-null    int64  \n",
      " 9   oldpeak   302 non-null    float64\n",
      " 10  slp       302 non-null    int64  \n",
      " 11  caa       302 non-null    int64  \n",
      " 12  thall     302 non-null    int64  \n",
      " 13  output    302 non-null    int64  \n",
      "dtypes: float64(1), int64(13)\n",
      "memory usage: 35.4 KB\n"
     ]
    }
   ],
   "source": [
    "heart = heart.drop_duplicates()\n",
    "heart.info()"
   ]
  },
  {
   "cell_type": "markdown",
   "id": "9e080b5f-1073-4f2a-9d1c-4d2591f00fd6",
   "metadata": {},
   "source": [
    "There was just one duplicate, and we have dropped it.\n",
    "\n",
    "We can now start with data visualisation and we will figure out if data needs more cleaning or pre-processing like normalisation.\n",
    "\n",
    "### Data Visualisation\n",
    "\n",
    "Let's plot one by one every column to see if we can find some interesting correlation between a column and the probability of having an heart attack."
   ]
  },
  {
   "cell_type": "code",
   "execution_count": 4,
   "id": "7b8294d3-737c-4007-957e-abd972528c53",
   "metadata": {},
   "outputs": [
    {
     "data": {
      "image/png": "[encoded data removed]",
      "text/plain": [
       "<Figure size 1200x800 with 1 Axes>"
      ]
     },
     "metadata": {},
     "output_type": "display_data"
    }
   ],
   "source": [
    "plt.figure(figsize=(12,8))\n",
    "gender = sns.countplot(data = heart, x=\"sex\",hue=\"output\",palette=sns.color_palette(['#2cbd08', '#bf160a']))\n",
    "gender.set(xticklabels=[\"Female\", \"Male\"])\n",
    "plt.legend(title='Heart Attck', loc='upper right', labels=['No', 'Yes'])\n",
    "plt.title(\"Gender plot\")\n",
    "plt.xlabel(\"Gender\",size=16)\n",
    "plt.ylabel(\"Count\",size=16)\n",
    "plt.savefig(\"Pictures/DataVisualisation/Gender_plot.png\")"
   ]
  },
  {
   "cell_type": "markdown",
   "id": "e291b84a-916a-487d-a9b1-37d389e98088",
   "metadata": {},
   "source": [
    "The figure above could be misleading, because someone could think that male have higher probability to get an hearth attack respect to female.\n",
    "\n",
    "However if we look at the proportions we have:"
   ]
  },
  {
   "cell_type": "code",
   "execution_count": 5,
   "id": "31f5564f-5b17-4b24-af9e-5fb5a74ba3ad",
   "metadata": {},
   "outputs": [],
   "source": [
    "# 0 is for female and 1 is for male\n",
    "female = heart.loc[heart.sex == 0]\n",
    "male = heart.loc[heart.sex == 1]\n",
    "\n",
    "# in position 0 we have how many DO NOT HAVE an heart attack, in position 1 the ones that HAVE an heart attack\n",
    "female_heart = female.groupby([\"output\"])[\"output\"].count()\n",
    "male_heart = male.groupby([\"output\"])[\"output\"].count()"
   ]
  },
  {
   "cell_type": "code",
   "execution_count": 6,
   "id": "9a70b3e7-c5ad-42ca-aeaf-6a07d4fbee79",
   "metadata": {},
   "outputs": [
    {
     "name": "stdout",
     "output_type": "stream",
     "text": [
      "Females:\n",
      "The total number of females in the dataset are: 96\n",
      "We have 72 females that HAVE an heart attack and 24 that DO NOT\n",
      "This gives us the proportion of 0.75\n",
      "---------------------------------------------------------\n",
      "Males:\n",
      "The total number of males in the dataset are: 206\n",
      "We have 92 males that HAVE an heart attack and 114 that DO NOT\n",
      "This gives us the proportion of 0.45\n"
     ]
    }
   ],
   "source": [
    "print(\"Females:\")\n",
    "print(\"The total number of females in the dataset are: {total}\".format(total = female_heart[0] + female_heart[1]))\n",
    "print(\"We have {attack} females that HAVE an heart attack and {no_attack} that DO NOT\".format(attack = female_heart[1], no_attack = female_heart[0]))\n",
    "female_attack_proportion = round(female_heart[1]/(female_heart[0] + female_heart[1]),2)\n",
    "print(\"This gives us the proportion of {attack_proportion}\".format(attack_proportion = female_attack_proportion))\n",
    "print(\"---------------------------------------------------------\")\n",
    "print(\"Males:\")\n",
    "print(\"The total number of males in the dataset are: {total}\".format(total = male_heart[0] + male_heart[1]))\n",
    "print(\"We have {attack} males that HAVE an heart attack and {no_attack} that DO NOT\".format(attack = male_heart[1], no_attack = male_heart[0]))\n",
    "male_attack_proportion = round(male_heart[1]/(male_heart[0] + male_heart[1]),2)\n",
    "print(\"This gives us the proportion of {attack_proportion}\".format(attack_proportion = male_attack_proportion))"
   ]
  },
  {
   "cell_type": "markdown",
   "id": "964780f7-4315-496e-8e93-b84455da8505",
   "metadata": {},
   "source": [
    "As we can see females have an higher chance of getting an heart attack.\n",
    "\n",
    "However they are underrepresented in the dataset.\n",
    "\n",
    "We can't see much from a plot but we have an idea of what is going on.\n",
    "\n",
    "Since heart attck is known to be more common in male, they have higher chance of getting check, while female do not as we can see in this unbalanced dataset.\n",
    "\n",
    "This is not the scope of the project, because we just want to make a classificator, however deeper analisis can and should be made."
   ]
  }
 ],
 "metadata": {
  "kernelspec": {
   "display_name": "data-mining",
   "language": "python",
   "name": "data-mining"
  },
  "language_info": {
   "codemirror_mode": {
    "name": "ipython",
    "version": 3
   },
   "file_extension": ".py",
   "mimetype": "text/x-python",
   "name": "python",
   "nbconvert_exporter": "python",
   "pygments_lexer": "ipython3",
   "version": "3.10.7"
  }
 },
 "nbformat": 4,
 "nbformat_minor": 5
}
